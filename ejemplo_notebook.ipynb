{
 "cells": [
  {
   "cell_type": "markdown",
   "id": "977fd305",
   "metadata": {},
   "source": [
    "# 🌟 Ejemplo de Notebook Jupyter\n",
    "Este es un pequeño ejemplo para mostrar cómo funciona un notebook."
   ]
  },
  {
   "cell_type": "code",
   "execution_count": null,
   "id": "32a3a294",
   "metadata": {},
   "outputs": [],
   "source": [
    "numeros = [1, 2, 3, 4, 5]\n",
    "cuadrados = [x**2 for x in numeros]\n",
    "cuadrados"
   ]
  },
  {
   "cell_type": "code",
   "execution_count": null,
   "id": "c6e3ac26",
   "metadata": {},
   "outputs": [],
   "source": [
    "# Usamos una función\n",
    "sum(cuadrados)"
   ]
  },
  {
   "cell_type": "markdown",
   "id": "4ddad4c0",
   "metadata": {},
   "source": [
    "## 🎉 ¡Listo!\n",
    "Ya tienes un notebook con código y texto."
   ]
  }
 ],
 "metadata": {},
 "nbformat": 4,
 "nbformat_minor": 5
}
